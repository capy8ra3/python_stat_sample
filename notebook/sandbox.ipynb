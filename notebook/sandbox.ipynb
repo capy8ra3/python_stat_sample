{
 "cells": [
  {
   "cell_type": "code",
   "execution_count": 248,
   "id": "bf274ebe-86b6-49ce-bf4a-aff90f61d717",
   "metadata": {},
   "outputs": [
    {
     "name": "stdout",
     "output_type": "stream",
     "text": [
      "     en  ma\n",
      "sid        \n",
      "1    42  65\n",
      "2    69  80\n",
      "3    56  63\n",
      "4    41  63\n",
      "5    57  76\n"
     ]
    }
   ],
   "source": [
    "import numpy as np\n",
    "import pandas as pd\n",
    "\n",
    "# NumPyの表示設定\n",
    "np.set_printoptions(precision=3, suppress=True)\n",
    "\n",
    "# Pandasの表示設定\n",
    "pd.set_option('display.precision', 3)\n",
    "pd.set_option('display.float_format', lambda x: '%.5f' % x)\n",
    "\n",
    "df = pd.read_csv('../data/ch2_scores_em.csv', index_col='生徒番号')\n",
    "df.rename(columns={'英語': 'en', '数学': 'ma'}, inplace=True)\n",
    "df.rename_axis('sid', inplace=True)\n",
    "print(df.head())\n",
    "english_scores = np.array(df['en'])"
   ]
  },
  {
   "cell_type": "code",
   "execution_count": 249,
   "id": "07ca533c-f46e-4a09-9f5a-28510204757d",
   "metadata": {},
   "outputs": [
    {
     "data": {
      "text/html": [
       "<div>\n",
       "<style scoped>\n",
       "    .dataframe tbody tr th:only-of-type {\n",
       "        vertical-align: middle;\n",
       "    }\n",
       "\n",
       "    .dataframe tbody tr th {\n",
       "        vertical-align: top;\n",
       "    }\n",
       "\n",
       "    .dataframe thead th {\n",
       "        text-align: right;\n",
       "    }\n",
       "</style>\n",
       "<table border=\"1\" class=\"dataframe\">\n",
       "  <thead>\n",
       "    <tr style=\"text-align: right;\">\n",
       "      <th></th>\n",
       "      <th>en</th>\n",
       "      <th>ma</th>\n",
       "    </tr>\n",
       "    <tr>\n",
       "      <th>sid</th>\n",
       "      <th></th>\n",
       "      <th></th>\n",
       "    </tr>\n",
       "  </thead>\n",
       "  <tbody>\n",
       "    <tr>\n",
       "      <th>1</th>\n",
       "      <td>42</td>\n",
       "      <td>65</td>\n",
       "    </tr>\n",
       "    <tr>\n",
       "      <th>2</th>\n",
       "      <td>69</td>\n",
       "      <td>80</td>\n",
       "    </tr>\n",
       "    <tr>\n",
       "      <th>3</th>\n",
       "      <td>56</td>\n",
       "      <td>63</td>\n",
       "    </tr>\n",
       "    <tr>\n",
       "      <th>4</th>\n",
       "      <td>41</td>\n",
       "      <td>63</td>\n",
       "    </tr>\n",
       "    <tr>\n",
       "      <th>5</th>\n",
       "      <td>57</td>\n",
       "      <td>76</td>\n",
       "    </tr>\n",
       "    <tr>\n",
       "      <th>6</th>\n",
       "      <td>48</td>\n",
       "      <td>60</td>\n",
       "    </tr>\n",
       "    <tr>\n",
       "      <th>7</th>\n",
       "      <td>65</td>\n",
       "      <td>81</td>\n",
       "    </tr>\n",
       "    <tr>\n",
       "      <th>8</th>\n",
       "      <td>49</td>\n",
       "      <td>66</td>\n",
       "    </tr>\n",
       "    <tr>\n",
       "      <th>9</th>\n",
       "      <td>65</td>\n",
       "      <td>78</td>\n",
       "    </tr>\n",
       "    <tr>\n",
       "      <th>10</th>\n",
       "      <td>58</td>\n",
       "      <td>82</td>\n",
       "    </tr>\n",
       "    <tr>\n",
       "      <th>11</th>\n",
       "      <td>70</td>\n",
       "      <td>94</td>\n",
       "    </tr>\n",
       "    <tr>\n",
       "      <th>12</th>\n",
       "      <td>47</td>\n",
       "      <td>75</td>\n",
       "    </tr>\n",
       "    <tr>\n",
       "      <th>13</th>\n",
       "      <td>51</td>\n",
       "      <td>70</td>\n",
       "    </tr>\n",
       "    <tr>\n",
       "      <th>14</th>\n",
       "      <td>64</td>\n",
       "      <td>77</td>\n",
       "    </tr>\n",
       "    <tr>\n",
       "      <th>15</th>\n",
       "      <td>62</td>\n",
       "      <td>84</td>\n",
       "    </tr>\n",
       "    <tr>\n",
       "      <th>16</th>\n",
       "      <td>70</td>\n",
       "      <td>84</td>\n",
       "    </tr>\n",
       "    <tr>\n",
       "      <th>17</th>\n",
       "      <td>71</td>\n",
       "      <td>82</td>\n",
       "    </tr>\n",
       "    <tr>\n",
       "      <th>18</th>\n",
       "      <td>68</td>\n",
       "      <td>85</td>\n",
       "    </tr>\n",
       "    <tr>\n",
       "      <th>19</th>\n",
       "      <td>73</td>\n",
       "      <td>90</td>\n",
       "    </tr>\n",
       "    <tr>\n",
       "      <th>20</th>\n",
       "      <td>37</td>\n",
       "      <td>70</td>\n",
       "    </tr>\n",
       "    <tr>\n",
       "      <th>21</th>\n",
       "      <td>65</td>\n",
       "      <td>78</td>\n",
       "    </tr>\n",
       "    <tr>\n",
       "      <th>22</th>\n",
       "      <td>65</td>\n",
       "      <td>93</td>\n",
       "    </tr>\n",
       "    <tr>\n",
       "      <th>23</th>\n",
       "      <td>61</td>\n",
       "      <td>77</td>\n",
       "    </tr>\n",
       "    <tr>\n",
       "      <th>24</th>\n",
       "      <td>52</td>\n",
       "      <td>88</td>\n",
       "    </tr>\n",
       "    <tr>\n",
       "      <th>25</th>\n",
       "      <td>57</td>\n",
       "      <td>82</td>\n",
       "    </tr>\n",
       "    <tr>\n",
       "      <th>26</th>\n",
       "      <td>57</td>\n",
       "      <td>76</td>\n",
       "    </tr>\n",
       "    <tr>\n",
       "      <th>27</th>\n",
       "      <td>75</td>\n",
       "      <td>87</td>\n",
       "    </tr>\n",
       "    <tr>\n",
       "      <th>28</th>\n",
       "      <td>61</td>\n",
       "      <td>84</td>\n",
       "    </tr>\n",
       "    <tr>\n",
       "      <th>29</th>\n",
       "      <td>47</td>\n",
       "      <td>77</td>\n",
       "    </tr>\n",
       "    <tr>\n",
       "      <th>30</th>\n",
       "      <td>54</td>\n",
       "      <td>82</td>\n",
       "    </tr>\n",
       "    <tr>\n",
       "      <th>31</th>\n",
       "      <td>66</td>\n",
       "      <td>91</td>\n",
       "    </tr>\n",
       "    <tr>\n",
       "      <th>32</th>\n",
       "      <td>54</td>\n",
       "      <td>75</td>\n",
       "    </tr>\n",
       "    <tr>\n",
       "      <th>33</th>\n",
       "      <td>54</td>\n",
       "      <td>76</td>\n",
       "    </tr>\n",
       "    <tr>\n",
       "      <th>34</th>\n",
       "      <td>42</td>\n",
       "      <td>78</td>\n",
       "    </tr>\n",
       "    <tr>\n",
       "      <th>35</th>\n",
       "      <td>37</td>\n",
       "      <td>57</td>\n",
       "    </tr>\n",
       "    <tr>\n",
       "      <th>36</th>\n",
       "      <td>79</td>\n",
       "      <td>89</td>\n",
       "    </tr>\n",
       "    <tr>\n",
       "      <th>37</th>\n",
       "      <td>56</td>\n",
       "      <td>83</td>\n",
       "    </tr>\n",
       "    <tr>\n",
       "      <th>38</th>\n",
       "      <td>62</td>\n",
       "      <td>69</td>\n",
       "    </tr>\n",
       "    <tr>\n",
       "      <th>39</th>\n",
       "      <td>62</td>\n",
       "      <td>86</td>\n",
       "    </tr>\n",
       "    <tr>\n",
       "      <th>40</th>\n",
       "      <td>55</td>\n",
       "      <td>81</td>\n",
       "    </tr>\n",
       "    <tr>\n",
       "      <th>41</th>\n",
       "      <td>63</td>\n",
       "      <td>81</td>\n",
       "    </tr>\n",
       "    <tr>\n",
       "      <th>42</th>\n",
       "      <td>57</td>\n",
       "      <td>80</td>\n",
       "    </tr>\n",
       "    <tr>\n",
       "      <th>43</th>\n",
       "      <td>57</td>\n",
       "      <td>79</td>\n",
       "    </tr>\n",
       "    <tr>\n",
       "      <th>44</th>\n",
       "      <td>67</td>\n",
       "      <td>87</td>\n",
       "    </tr>\n",
       "    <tr>\n",
       "      <th>45</th>\n",
       "      <td>55</td>\n",
       "      <td>84</td>\n",
       "    </tr>\n",
       "    <tr>\n",
       "      <th>46</th>\n",
       "      <td>45</td>\n",
       "      <td>71</td>\n",
       "    </tr>\n",
       "    <tr>\n",
       "      <th>47</th>\n",
       "      <td>66</td>\n",
       "      <td>80</td>\n",
       "    </tr>\n",
       "    <tr>\n",
       "      <th>48</th>\n",
       "      <td>55</td>\n",
       "      <td>77</td>\n",
       "    </tr>\n",
       "    <tr>\n",
       "      <th>49</th>\n",
       "      <td>64</td>\n",
       "      <td>83</td>\n",
       "    </tr>\n",
       "    <tr>\n",
       "      <th>50</th>\n",
       "      <td>66</td>\n",
       "      <td>88</td>\n",
       "    </tr>\n",
       "  </tbody>\n",
       "</table>\n",
       "</div>"
      ],
      "text/plain": [
       "     en  ma\n",
       "sid        \n",
       "1    42  65\n",
       "2    69  80\n",
       "3    56  63\n",
       "4    41  63\n",
       "5    57  76\n",
       "6    48  60\n",
       "7    65  81\n",
       "8    49  66\n",
       "9    65  78\n",
       "10   58  82\n",
       "11   70  94\n",
       "12   47  75\n",
       "13   51  70\n",
       "14   64  77\n",
       "15   62  84\n",
       "16   70  84\n",
       "17   71  82\n",
       "18   68  85\n",
       "19   73  90\n",
       "20   37  70\n",
       "21   65  78\n",
       "22   65  93\n",
       "23   61  77\n",
       "24   52  88\n",
       "25   57  82\n",
       "26   57  76\n",
       "27   75  87\n",
       "28   61  84\n",
       "29   47  77\n",
       "30   54  82\n",
       "31   66  91\n",
       "32   54  75\n",
       "33   54  76\n",
       "34   42  78\n",
       "35   37  57\n",
       "36   79  89\n",
       "37   56  83\n",
       "38   62  69\n",
       "39   62  86\n",
       "40   55  81\n",
       "41   63  81\n",
       "42   57  80\n",
       "43   57  79\n",
       "44   67  87\n",
       "45   55  84\n",
       "46   45  71\n",
       "47   66  80\n",
       "48   55  77\n",
       "49   64  83\n",
       "50   66  88"
      ]
     },
     "execution_count": 249,
     "metadata": {},
     "output_type": "execute_result"
    }
   ],
   "source": [
    "df"
   ]
  },
  {
   "cell_type": "code",
   "execution_count": 213,
   "id": "8764a0c2-4f3f-4be7-b061-88c10ea413bd",
   "metadata": {},
   "outputs": [],
   "source": [
    "scores = np.array(df['en'])"
   ]
  },
  {
   "cell_type": "code",
   "execution_count": 214,
   "id": "0dcbbadd-d911-4041-80f7-13c608f26f9e",
   "metadata": {},
   "outputs": [
    {
     "data": {
      "text/plain": [
       "array([42, 69, 56, 41, 57, 48, 65, 49, 65, 58, 70, 47, 51, 64, 62, 70, 71,\n",
       "       68, 73, 37, 65, 65, 61, 52, 57, 57, 75, 61, 47, 54, 66, 54, 54, 42,\n",
       "       37, 79, 56, 62, 62, 55, 63, 57, 57, 67, 55, 45, 66, 55, 64, 66])"
      ]
     },
     "execution_count": 214,
     "metadata": {},
     "output_type": "execute_result"
    }
   ],
   "source": [
    "scores"
   ]
  },
  {
   "cell_type": "code",
   "execution_count": 215,
   "id": "d785820d-27bd-402c-80f1-54de5bbe9e83",
   "metadata": {},
   "outputs": [
    {
     "data": {
      "text/plain": [
       "2919"
      ]
     },
     "execution_count": 215,
     "metadata": {},
     "output_type": "execute_result"
    }
   ],
   "source": [
    "sum(scores)"
   ]
  },
  {
   "cell_type": "code",
   "execution_count": 216,
   "id": "ca821abd-d2a8-4e50-96fa-d2ef3e6ffc97",
   "metadata": {},
   "outputs": [
    {
     "data": {
      "text/plain": [
       "50"
      ]
     },
     "execution_count": 216,
     "metadata": {},
     "output_type": "execute_result"
    }
   ],
   "source": [
    "len(scores)"
   ]
  },
  {
   "cell_type": "code",
   "execution_count": 217,
   "id": "c2c3bb97-fb7d-480c-80e7-872dc80633b7",
   "metadata": {},
   "outputs": [
    {
     "data": {
      "text/plain": [
       "58.380"
      ]
     },
     "execution_count": 217,
     "metadata": {},
     "output_type": "execute_result"
    }
   ],
   "source": [
    "sum(scores) / len(scores)"
   ]
  },
  {
   "cell_type": "code",
   "execution_count": 218,
   "id": "4441e73c-4222-4e02-8b18-9a0b68a039ca",
   "metadata": {},
   "outputs": [
    {
     "data": {
      "text/plain": [
       "58.380"
      ]
     },
     "execution_count": 218,
     "metadata": {},
     "output_type": "execute_result"
    }
   ],
   "source": [
    "np.mean(scores)"
   ]
  },
  {
   "cell_type": "code",
   "execution_count": 219,
   "id": "a2197c07-65d2-4357-adcc-9e1985ffb70b",
   "metadata": {},
   "outputs": [
    {
     "data": {
      "text/plain": [
       "array([37, 37, 41, 42, 42, 45, 47, 47, 48, 49, 51, 52, 54, 54, 54, 55, 55,\n",
       "       55, 56, 56, 57, 57, 57, 57, 57, 58, 61, 61, 62, 62, 62, 63, 64, 64,\n",
       "       65, 65, 65, 65, 66, 66, 66, 67, 68, 69, 70, 70, 71, 73, 75, 79])"
      ]
     },
     "execution_count": 219,
     "metadata": {},
     "output_type": "execute_result"
    }
   ],
   "source": [
    "sorted_scores = np.sort(scores)\n",
    "sorted_scores"
   ]
  },
  {
   "cell_type": "code",
   "execution_count": 220,
   "id": "13b0d153-7d2f-4c06-91ad-83be13afad7d",
   "metadata": {},
   "outputs": [
    {
     "data": {
      "text/plain": [
       "57.500"
      ]
     },
     "execution_count": 220,
     "metadata": {},
     "output_type": "execute_result"
    }
   ],
   "source": [
    "n = len(sorted_scores)\n",
    "if n % 2 == 0:\n",
    "    m0 = sorted_scores[n//2 - 1]\n",
    "    m1 = sorted_scores[n//2]\n",
    "    median = (m0 + m1) / 2\n",
    "else:\n",
    "    median = sorted_scores[(n+1)//2 - 1]\n",
    "\n",
    "median"
   ]
  },
  {
   "cell_type": "code",
   "execution_count": 221,
   "id": "2676f815-d4e7-485c-acbc-42c031dd076a",
   "metadata": {},
   "outputs": [
    {
     "data": {
      "text/plain": [
       "57.500"
      ]
     },
     "execution_count": 221,
     "metadata": {},
     "output_type": "execute_result"
    }
   ],
   "source": [
    "np.median(scores)"
   ]
  },
  {
   "cell_type": "code",
   "execution_count": 222,
   "id": "365e3ee5-bfc5-448e-96ea-a00ca02a0590",
   "metadata": {},
   "outputs": [
    {
     "data": {
      "text/plain": [
       "0    57\n",
       "dtype: int64"
      ]
     },
     "execution_count": 222,
     "metadata": {},
     "output_type": "execute_result"
    }
   ],
   "source": [
    "pd.Series(scores).mode()"
   ]
  },
  {
   "cell_type": "code",
   "execution_count": 223,
   "id": "f668114e-dc01-437a-833c-5463abe30474",
   "metadata": {},
   "outputs": [
    {
     "data": {
      "text/plain": [
       "57    5\n",
       "65    4\n",
       "54    3\n",
       "62    3\n",
       "55    3\n",
       "Name: count, dtype: int64"
      ]
     },
     "execution_count": 223,
     "metadata": {},
     "output_type": "execute_result"
    }
   ],
   "source": [
    "pd.Series(scores).value_counts(dropna=False).head(5)"
   ]
  },
  {
   "cell_type": "markdown",
   "id": "5f151f01-fa8f-4454-b334-8bc471762a89",
   "metadata": {},
   "source": [
    "# 偏差"
   ]
  },
  {
   "cell_type": "code",
   "execution_count": 224,
   "id": "9f5025ff-6cd4-4a47-8d19-98b7303b3803",
   "metadata": {},
   "outputs": [
    {
     "data": {
      "text/plain": [
       "array([-16.38,  10.62,  -2.38, -17.38,  -1.38, -10.38,   6.62,  -9.38,\n",
       "         6.62,  -0.38,  11.62, -11.38,  -7.38,   5.62,   3.62,  11.62,\n",
       "        12.62,   9.62,  14.62, -21.38,   6.62,   6.62,   2.62,  -6.38,\n",
       "        -1.38,  -1.38,  16.62,   2.62, -11.38,  -4.38,   7.62,  -4.38,\n",
       "        -4.38, -16.38, -21.38,  20.62,  -2.38,   3.62,   3.62,  -3.38,\n",
       "         4.62,  -1.38,  -1.38,   8.62,  -3.38, -13.38,   7.62,  -3.38,\n",
       "         5.62,   7.62])"
      ]
     },
     "execution_count": 224,
     "metadata": {},
     "output_type": "execute_result"
    }
   ],
   "source": [
    "mean = np.mean(scores)\n",
    "deviation = scores - mean\n",
    "deviation"
   ]
  },
  {
   "cell_type": "code",
   "execution_count": 225,
   "id": "37c7cf28-edcc-4e5d-9b29-5d5a3f00acea",
   "metadata": {},
   "outputs": [
    {
     "data": {
      "text/plain": [
       "-0.000"
      ]
     },
     "execution_count": 225,
     "metadata": {},
     "output_type": "execute_result"
    }
   ],
   "source": [
    "np.mean(deviation)"
   ]
  },
  {
   "cell_type": "code",
   "execution_count": 226,
   "id": "33633874-e0d4-45b9-9d24-0878d8a5025e",
   "metadata": {},
   "outputs": [],
   "source": [
    "df = pd.DataFrame({'scores': scores})"
   ]
  },
  {
   "cell_type": "code",
   "execution_count": 227,
   "id": "772b8972-287d-462b-bad9-02eb667a1019",
   "metadata": {},
   "outputs": [
    {
     "data": {
      "text/html": [
       "<div>\n",
       "<style scoped>\n",
       "    .dataframe tbody tr th:only-of-type {\n",
       "        vertical-align: middle;\n",
       "    }\n",
       "\n",
       "    .dataframe tbody tr th {\n",
       "        vertical-align: top;\n",
       "    }\n",
       "\n",
       "    .dataframe thead th {\n",
       "        text-align: right;\n",
       "    }\n",
       "</style>\n",
       "<table border=\"1\" class=\"dataframe\">\n",
       "  <thead>\n",
       "    <tr style=\"text-align: right;\">\n",
       "      <th></th>\n",
       "      <th>scores</th>\n",
       "      <th>deviation</th>\n",
       "    </tr>\n",
       "  </thead>\n",
       "  <tbody>\n",
       "    <tr>\n",
       "      <th>0</th>\n",
       "      <td>42</td>\n",
       "      <td>-16.38000</td>\n",
       "    </tr>\n",
       "    <tr>\n",
       "      <th>1</th>\n",
       "      <td>69</td>\n",
       "      <td>10.62000</td>\n",
       "    </tr>\n",
       "    <tr>\n",
       "      <th>2</th>\n",
       "      <td>56</td>\n",
       "      <td>-2.38000</td>\n",
       "    </tr>\n",
       "    <tr>\n",
       "      <th>3</th>\n",
       "      <td>41</td>\n",
       "      <td>-17.38000</td>\n",
       "    </tr>\n",
       "    <tr>\n",
       "      <th>4</th>\n",
       "      <td>57</td>\n",
       "      <td>-1.38000</td>\n",
       "    </tr>\n",
       "    <tr>\n",
       "      <th>5</th>\n",
       "      <td>48</td>\n",
       "      <td>-10.38000</td>\n",
       "    </tr>\n",
       "    <tr>\n",
       "      <th>6</th>\n",
       "      <td>65</td>\n",
       "      <td>6.62000</td>\n",
       "    </tr>\n",
       "    <tr>\n",
       "      <th>7</th>\n",
       "      <td>49</td>\n",
       "      <td>-9.38000</td>\n",
       "    </tr>\n",
       "    <tr>\n",
       "      <th>8</th>\n",
       "      <td>65</td>\n",
       "      <td>6.62000</td>\n",
       "    </tr>\n",
       "    <tr>\n",
       "      <th>9</th>\n",
       "      <td>58</td>\n",
       "      <td>-0.38000</td>\n",
       "    </tr>\n",
       "  </tbody>\n",
       "</table>\n",
       "</div>"
      ],
      "text/plain": [
       "   scores  deviation\n",
       "0      42  -16.38000\n",
       "1      69   10.62000\n",
       "2      56   -2.38000\n",
       "3      41  -17.38000\n",
       "4      57   -1.38000\n",
       "5      48  -10.38000\n",
       "6      65    6.62000\n",
       "7      49   -9.38000\n",
       "8      65    6.62000\n",
       "9      58   -0.38000"
      ]
     },
     "execution_count": 227,
     "metadata": {},
     "output_type": "execute_result"
    }
   ],
   "source": [
    "df['deviation'] = deviation\n",
    "df.head(10)"
   ]
  },
  {
   "cell_type": "code",
   "execution_count": 228,
   "id": "1828d7ee-243d-4dbd-abf7-2ebe0e6ce230",
   "metadata": {},
   "outputs": [
    {
     "data": {
      "text/plain": [
       "scores      58.38000\n",
       "deviation   -0.00000\n",
       "dtype: float64"
      ]
     },
     "execution_count": 228,
     "metadata": {},
     "output_type": "execute_result"
    }
   ],
   "source": [
    "df.mean()"
   ]
  },
  {
   "cell_type": "markdown",
   "id": "8d7b77d9-3629-4d51-8c2b-ae02a349a1fa",
   "metadata": {},
   "source": [
    "# Variance　分散"
   ]
  },
  {
   "cell_type": "code",
   "execution_count": 229,
   "id": "d9a1c180-647e-4a34-96f4-c65b3ee91392",
   "metadata": {},
   "outputs": [
    {
     "data": {
      "text/plain": [
       "94.116"
      ]
     },
     "execution_count": 229,
     "metadata": {},
     "output_type": "execute_result"
    }
   ],
   "source": [
    "np.mean(deviation ** 2)"
   ]
  },
  {
   "cell_type": "code",
   "execution_count": 230,
   "id": "fdf970b8-ee87-46bd-a8f6-99b99eaf96d8",
   "metadata": {},
   "outputs": [
    {
     "data": {
      "text/plain": [
       "96.036"
      ]
     },
     "execution_count": 230,
     "metadata": {},
     "output_type": "execute_result"
    }
   ],
   "source": [
    "np.var(scores, ddof=1)"
   ]
  },
  {
   "cell_type": "code",
   "execution_count": 231,
   "id": "88a64a4f-927f-476a-afa7-115b8f890aa1",
   "metadata": {},
   "outputs": [
    {
     "data": {
      "text/html": [
       "<div>\n",
       "<style scoped>\n",
       "    .dataframe tbody tr th:only-of-type {\n",
       "        vertical-align: middle;\n",
       "    }\n",
       "\n",
       "    .dataframe tbody tr th {\n",
       "        vertical-align: top;\n",
       "    }\n",
       "\n",
       "    .dataframe thead th {\n",
       "        text-align: right;\n",
       "    }\n",
       "</style>\n",
       "<table border=\"1\" class=\"dataframe\">\n",
       "  <thead>\n",
       "    <tr style=\"text-align: right;\">\n",
       "      <th></th>\n",
       "      <th>scores</th>\n",
       "      <th>deviation</th>\n",
       "      <th>squared_diviation</th>\n",
       "      <th>variance</th>\n",
       "    </tr>\n",
       "  </thead>\n",
       "  <tbody>\n",
       "    <tr>\n",
       "      <th>0</th>\n",
       "      <td>42</td>\n",
       "      <td>-16.38000</td>\n",
       "      <td>268.30440</td>\n",
       "      <td>94.11560</td>\n",
       "    </tr>\n",
       "    <tr>\n",
       "      <th>1</th>\n",
       "      <td>69</td>\n",
       "      <td>10.62000</td>\n",
       "      <td>112.78440</td>\n",
       "      <td>94.11560</td>\n",
       "    </tr>\n",
       "    <tr>\n",
       "      <th>2</th>\n",
       "      <td>56</td>\n",
       "      <td>-2.38000</td>\n",
       "      <td>5.66440</td>\n",
       "      <td>94.11560</td>\n",
       "    </tr>\n",
       "    <tr>\n",
       "      <th>3</th>\n",
       "      <td>41</td>\n",
       "      <td>-17.38000</td>\n",
       "      <td>302.06440</td>\n",
       "      <td>94.11560</td>\n",
       "    </tr>\n",
       "    <tr>\n",
       "      <th>4</th>\n",
       "      <td>57</td>\n",
       "      <td>-1.38000</td>\n",
       "      <td>1.90440</td>\n",
       "      <td>94.11560</td>\n",
       "    </tr>\n",
       "  </tbody>\n",
       "</table>\n",
       "</div>"
      ],
      "text/plain": [
       "   scores  deviation  squared_diviation  variance\n",
       "0      42  -16.38000          268.30440  94.11560\n",
       "1      69   10.62000          112.78440  94.11560\n",
       "2      56   -2.38000            5.66440  94.11560\n",
       "3      41  -17.38000          302.06440  94.11560\n",
       "4      57   -1.38000            1.90440  94.11560"
      ]
     },
     "execution_count": 231,
     "metadata": {},
     "output_type": "execute_result"
    }
   ],
   "source": [
    "df['squared_diviation'] = np.square(deviation)\n",
    "df['variance'] = np.var(scores)\n",
    "df.head()"
   ]
  },
  {
   "cell_type": "code",
   "execution_count": 232,
   "id": "d19fcb02-c735-456a-b471-67ba4e50b6eb",
   "metadata": {},
   "outputs": [
    {
     "data": {
      "text/plain": [
       "scores              58.38000\n",
       "deviation           -0.00000\n",
       "squared_diviation   94.11560\n",
       "variance            94.11560\n",
       "dtype: float64"
      ]
     },
     "execution_count": 232,
     "metadata": {},
     "output_type": "execute_result"
    }
   ],
   "source": [
    "df.mean()"
   ]
  },
  {
   "cell_type": "code",
   "execution_count": 233,
   "id": "cfff4eaa-b2fe-471d-bd94-659960716651",
   "metadata": {},
   "outputs": [
    {
     "data": {
      "text/plain": [
       "9.701"
      ]
     },
     "execution_count": 233,
     "metadata": {},
     "output_type": "execute_result"
    }
   ],
   "source": [
    "standard_deviation = np.sqrt(np.var(scores, ddof=0))\n",
    "standard_deviation"
   ]
  },
  {
   "cell_type": "code",
   "execution_count": 234,
   "id": "669dfd4b-459f-4904-bc06-dec475fe7b2b",
   "metadata": {},
   "outputs": [
    {
     "data": {
      "text/html": [
       "<div>\n",
       "<style scoped>\n",
       "    .dataframe tbody tr th:only-of-type {\n",
       "        vertical-align: middle;\n",
       "    }\n",
       "\n",
       "    .dataframe tbody tr th {\n",
       "        vertical-align: top;\n",
       "    }\n",
       "\n",
       "    .dataframe thead th {\n",
       "        text-align: right;\n",
       "    }\n",
       "</style>\n",
       "<table border=\"1\" class=\"dataframe\">\n",
       "  <thead>\n",
       "    <tr style=\"text-align: right;\">\n",
       "      <th></th>\n",
       "      <th>scores</th>\n",
       "      <th>deviation</th>\n",
       "      <th>squared_diviation</th>\n",
       "      <th>variance</th>\n",
       "      <th>standard_deviation</th>\n",
       "    </tr>\n",
       "  </thead>\n",
       "  <tbody>\n",
       "    <tr>\n",
       "      <th>0</th>\n",
       "      <td>42</td>\n",
       "      <td>-16.38000</td>\n",
       "      <td>268.30440</td>\n",
       "      <td>94.11560</td>\n",
       "      <td>9.70132</td>\n",
       "    </tr>\n",
       "    <tr>\n",
       "      <th>1</th>\n",
       "      <td>69</td>\n",
       "      <td>10.62000</td>\n",
       "      <td>112.78440</td>\n",
       "      <td>94.11560</td>\n",
       "      <td>9.70132</td>\n",
       "    </tr>\n",
       "    <tr>\n",
       "      <th>2</th>\n",
       "      <td>56</td>\n",
       "      <td>-2.38000</td>\n",
       "      <td>5.66440</td>\n",
       "      <td>94.11560</td>\n",
       "      <td>9.70132</td>\n",
       "    </tr>\n",
       "    <tr>\n",
       "      <th>3</th>\n",
       "      <td>41</td>\n",
       "      <td>-17.38000</td>\n",
       "      <td>302.06440</td>\n",
       "      <td>94.11560</td>\n",
       "      <td>9.70132</td>\n",
       "    </tr>\n",
       "    <tr>\n",
       "      <th>4</th>\n",
       "      <td>57</td>\n",
       "      <td>-1.38000</td>\n",
       "      <td>1.90440</td>\n",
       "      <td>94.11560</td>\n",
       "      <td>9.70132</td>\n",
       "    </tr>\n",
       "  </tbody>\n",
       "</table>\n",
       "</div>"
      ],
      "text/plain": [
       "   scores  deviation  squared_diviation  variance  standard_deviation\n",
       "0      42  -16.38000          268.30440  94.11560             9.70132\n",
       "1      69   10.62000          112.78440  94.11560             9.70132\n",
       "2      56   -2.38000            5.66440  94.11560             9.70132\n",
       "3      41  -17.38000          302.06440  94.11560             9.70132\n",
       "4      57   -1.38000            1.90440  94.11560             9.70132"
      ]
     },
     "execution_count": 234,
     "metadata": {},
     "output_type": "execute_result"
    }
   ],
   "source": [
    "df['standard_deviation'] = standard_deviation\n",
    "df.head()"
   ]
  },
  {
   "cell_type": "code",
   "execution_count": 235,
   "id": "0fb7600d-cbdd-4ef2-bbb3-a29520794f2e",
   "metadata": {},
   "outputs": [
    {
     "data": {
      "text/plain": [
       "9.701"
      ]
     },
     "execution_count": 235,
     "metadata": {},
     "output_type": "execute_result"
    }
   ],
   "source": [
    "np.std(scores, ddof=0)"
   ]
  },
  {
   "cell_type": "code",
   "execution_count": 236,
   "id": "8970bf56-472e-4905-91a2-e9aaaa2d9250",
   "metadata": {},
   "outputs": [
    {
     "data": {
      "text/plain": [
       "42"
      ]
     },
     "execution_count": 236,
     "metadata": {},
     "output_type": "execute_result"
    }
   ],
   "source": [
    "np.max(scores) - np.min(scores)"
   ]
  },
  {
   "cell_type": "code",
   "execution_count": 237,
   "id": "389eab84-19df-4fbd-8376-aed1096daf00",
   "metadata": {},
   "outputs": [
    {
     "data": {
      "text/plain": [
       "11.000"
      ]
     },
     "execution_count": 237,
     "metadata": {},
     "output_type": "execute_result"
    }
   ],
   "source": [
    "scores_Q1 = np.percentile(scores, 25)\n",
    "scores_Q3 = np.percentile(scores, 75)\n",
    "scores_IQR = scores_Q3 - scores_Q1\n",
    "scores_IQR\n",
    "\n"
   ]
  },
  {
   "cell_type": "code",
   "execution_count": 238,
   "id": "72582783-f4b5-4a3e-91b8-aec8f33cd0fc",
   "metadata": {},
   "outputs": [
    {
     "data": {
      "text/plain": [
       "57.500"
      ]
     },
     "execution_count": 238,
     "metadata": {},
     "output_type": "execute_result"
    }
   ],
   "source": [
    "np.percentile(scores, 50)"
   ]
  },
  {
   "cell_type": "code",
   "execution_count": 239,
   "id": "149c55f1-63bb-4850-b9f2-8ddd755c0b1b",
   "metadata": {},
   "outputs": [
    {
     "data": {
      "text/plain": [
       "count   50.00000\n",
       "mean    58.38000\n",
       "std      9.79981\n",
       "min     37.00000\n",
       "25%     54.00000\n",
       "50%     57.50000\n",
       "75%     65.00000\n",
       "max     79.00000\n",
       "dtype: float64"
      ]
     },
     "execution_count": 239,
     "metadata": {},
     "output_type": "execute_result"
    }
   ],
   "source": [
    "pd.Series(scores).describe()"
   ]
  },
  {
   "cell_type": "code",
   "execution_count": 240,
   "id": "cbe10c3e-aea8-465a-b2b1-eafae3aaa1b5",
   "metadata": {},
   "outputs": [
    {
     "data": {
      "text/plain": [
       "array([-1.688,  1.095, -0.245, -1.792, -0.142, -1.07 ,  0.682, -0.967,\n",
       "        0.682, -0.039,  1.198, -1.173, -0.761,  0.579,  0.373,  1.198,\n",
       "        1.301,  0.992,  1.507, -2.204,  0.682,  0.682,  0.27 , -0.658,\n",
       "       -0.142, -0.142,  1.713,  0.27 , -1.173, -0.451,  0.785, -0.451,\n",
       "       -0.451, -1.688, -2.204,  2.125, -0.245,  0.373,  0.373, -0.348,\n",
       "        0.476, -0.142, -0.142,  0.889, -0.348, -1.379,  0.785, -0.348,\n",
       "        0.579,  0.785])"
      ]
     },
     "execution_count": 240,
     "metadata": {},
     "output_type": "execute_result"
    }
   ],
   "source": [
    "z = (scores - np.mean(scores)) / np.std(scores)\n",
    "z"
   ]
  },
  {
   "cell_type": "code",
   "execution_count": 241,
   "id": "8a123795-502e-4fe1-9fc2-894a24d54ef6",
   "metadata": {},
   "outputs": [],
   "source": [
    "df['z_score'] = z"
   ]
  },
  {
   "cell_type": "code",
   "execution_count": 242,
   "id": "ae905236-6b6c-4972-8429-b2c131c67a8c",
   "metadata": {},
   "outputs": [
    {
     "data": {
      "text/html": [
       "<div>\n",
       "<style scoped>\n",
       "    .dataframe tbody tr th:only-of-type {\n",
       "        vertical-align: middle;\n",
       "    }\n",
       "\n",
       "    .dataframe tbody tr th {\n",
       "        vertical-align: top;\n",
       "    }\n",
       "\n",
       "    .dataframe thead th {\n",
       "        text-align: right;\n",
       "    }\n",
       "</style>\n",
       "<table border=\"1\" class=\"dataframe\">\n",
       "  <thead>\n",
       "    <tr style=\"text-align: right;\">\n",
       "      <th></th>\n",
       "      <th>scores</th>\n",
       "      <th>deviation</th>\n",
       "      <th>squared_diviation</th>\n",
       "      <th>variance</th>\n",
       "      <th>standard_deviation</th>\n",
       "      <th>z_score</th>\n",
       "    </tr>\n",
       "  </thead>\n",
       "  <tbody>\n",
       "    <tr>\n",
       "      <th>0</th>\n",
       "      <td>42</td>\n",
       "      <td>-16.38000</td>\n",
       "      <td>268.30440</td>\n",
       "      <td>94.11560</td>\n",
       "      <td>9.70132</td>\n",
       "      <td>-1.68843</td>\n",
       "    </tr>\n",
       "    <tr>\n",
       "      <th>1</th>\n",
       "      <td>69</td>\n",
       "      <td>10.62000</td>\n",
       "      <td>112.78440</td>\n",
       "      <td>94.11560</td>\n",
       "      <td>9.70132</td>\n",
       "      <td>1.09470</td>\n",
       "    </tr>\n",
       "    <tr>\n",
       "      <th>2</th>\n",
       "      <td>56</td>\n",
       "      <td>-2.38000</td>\n",
       "      <td>5.66440</td>\n",
       "      <td>94.11560</td>\n",
       "      <td>9.70132</td>\n",
       "      <td>-0.24533</td>\n",
       "    </tr>\n",
       "    <tr>\n",
       "      <th>3</th>\n",
       "      <td>41</td>\n",
       "      <td>-17.38000</td>\n",
       "      <td>302.06440</td>\n",
       "      <td>94.11560</td>\n",
       "      <td>9.70132</td>\n",
       "      <td>-1.79151</td>\n",
       "    </tr>\n",
       "    <tr>\n",
       "      <th>4</th>\n",
       "      <td>57</td>\n",
       "      <td>-1.38000</td>\n",
       "      <td>1.90440</td>\n",
       "      <td>94.11560</td>\n",
       "      <td>9.70132</td>\n",
       "      <td>-0.14225</td>\n",
       "    </tr>\n",
       "  </tbody>\n",
       "</table>\n",
       "</div>"
      ],
      "text/plain": [
       "   scores  deviation  squared_diviation  variance  standard_deviation  z_score\n",
       "0      42  -16.38000          268.30440  94.11560             9.70132 -1.68843\n",
       "1      69   10.62000          112.78440  94.11560             9.70132  1.09470\n",
       "2      56   -2.38000            5.66440  94.11560             9.70132 -0.24533\n",
       "3      41  -17.38000          302.06440  94.11560             9.70132 -1.79151\n",
       "4      57   -1.38000            1.90440  94.11560             9.70132 -0.14225"
      ]
     },
     "execution_count": 242,
     "metadata": {},
     "output_type": "execute_result"
    }
   ],
   "source": [
    "df.head()"
   ]
  },
  {
   "cell_type": "code",
   "execution_count": 243,
   "id": "8c8fab65-e23f-45ea-95d0-009c28da80e7",
   "metadata": {},
   "outputs": [
    {
     "data": {
      "text/plain": [
       "(-0.000, 1.000)"
      ]
     },
     "execution_count": 243,
     "metadata": {},
     "output_type": "execute_result"
    }
   ],
   "source": [
    "np.mean(z), np.std(z, ddof=0)"
   ]
  },
  {
   "cell_type": "code",
   "execution_count": 244,
   "id": "f4408a84-2bbc-4f71-843f-3df6fabfe548",
   "metadata": {},
   "outputs": [
    {
     "data": {
      "text/plain": [
       "array([33.116, 60.947, 47.547, 32.085, 48.578, 39.3  , 56.824, 40.331,\n",
       "       56.824, 49.608, 61.978, 38.27 , 42.393, 55.793, 53.731, 61.978,\n",
       "       63.009, 59.916, 65.07 , 27.962, 56.824, 56.824, 52.701, 43.424,\n",
       "       48.578, 48.578, 67.132, 52.701, 38.27 , 45.485, 57.855, 45.485,\n",
       "       45.485, 33.116, 27.962, 71.255, 47.547, 53.731, 53.731, 46.516,\n",
       "       54.762, 48.578, 48.578, 58.885, 46.516, 36.208, 57.855, 46.516,\n",
       "       55.793, 57.855])"
      ]
     },
     "execution_count": 244,
     "metadata": {},
     "output_type": "execute_result"
    }
   ],
   "source": [
    "deviation_scores = 50 + 10 * (scores - np.mean(scores)) / np.std(scores)\n",
    "deviation_scores"
   ]
  },
  {
   "cell_type": "code",
   "execution_count": 245,
   "id": "c3e264cd-6e17-491b-8f38-0b222672cde7",
   "metadata": {},
   "outputs": [],
   "source": [
    "df['deviation_score'] = deviation_scores"
   ]
  },
  {
   "cell_type": "code",
   "execution_count": 246,
   "id": "852b1fc9-2cbd-46e2-af37-41bd89c2df03",
   "metadata": {},
   "outputs": [
    {
     "data": {
      "text/html": [
       "<div>\n",
       "<style scoped>\n",
       "    .dataframe tbody tr th:only-of-type {\n",
       "        vertical-align: middle;\n",
       "    }\n",
       "\n",
       "    .dataframe tbody tr th {\n",
       "        vertical-align: top;\n",
       "    }\n",
       "\n",
       "    .dataframe thead th {\n",
       "        text-align: right;\n",
       "    }\n",
       "</style>\n",
       "<table border=\"1\" class=\"dataframe\">\n",
       "  <thead>\n",
       "    <tr style=\"text-align: right;\">\n",
       "      <th></th>\n",
       "      <th>scores</th>\n",
       "      <th>deviation</th>\n",
       "      <th>squared_diviation</th>\n",
       "      <th>variance</th>\n",
       "      <th>standard_deviation</th>\n",
       "      <th>z_score</th>\n",
       "      <th>deviation_score</th>\n",
       "    </tr>\n",
       "  </thead>\n",
       "  <tbody>\n",
       "    <tr>\n",
       "      <th>0</th>\n",
       "      <td>42</td>\n",
       "      <td>-16.38000</td>\n",
       "      <td>268.30440</td>\n",
       "      <td>94.11560</td>\n",
       "      <td>9.70132</td>\n",
       "      <td>-1.68843</td>\n",
       "      <td>33.11570</td>\n",
       "    </tr>\n",
       "    <tr>\n",
       "      <th>1</th>\n",
       "      <td>69</td>\n",
       "      <td>10.62000</td>\n",
       "      <td>112.78440</td>\n",
       "      <td>94.11560</td>\n",
       "      <td>9.70132</td>\n",
       "      <td>1.09470</td>\n",
       "      <td>60.94696</td>\n",
       "    </tr>\n",
       "    <tr>\n",
       "      <th>2</th>\n",
       "      <td>56</td>\n",
       "      <td>-2.38000</td>\n",
       "      <td>5.66440</td>\n",
       "      <td>94.11560</td>\n",
       "      <td>9.70132</td>\n",
       "      <td>-0.24533</td>\n",
       "      <td>47.54673</td>\n",
       "    </tr>\n",
       "    <tr>\n",
       "      <th>3</th>\n",
       "      <td>41</td>\n",
       "      <td>-17.38000</td>\n",
       "      <td>302.06440</td>\n",
       "      <td>94.11560</td>\n",
       "      <td>9.70132</td>\n",
       "      <td>-1.79151</td>\n",
       "      <td>32.08491</td>\n",
       "    </tr>\n",
       "    <tr>\n",
       "      <th>4</th>\n",
       "      <td>57</td>\n",
       "      <td>-1.38000</td>\n",
       "      <td>1.90440</td>\n",
       "      <td>94.11560</td>\n",
       "      <td>9.70132</td>\n",
       "      <td>-0.14225</td>\n",
       "      <td>48.57751</td>\n",
       "    </tr>\n",
       "  </tbody>\n",
       "</table>\n",
       "</div>"
      ],
      "text/plain": [
       "   scores  deviation  squared_diviation  variance  standard_deviation  \\\n",
       "0      42  -16.38000          268.30440  94.11560             9.70132   \n",
       "1      69   10.62000          112.78440  94.11560             9.70132   \n",
       "2      56   -2.38000            5.66440  94.11560             9.70132   \n",
       "3      41  -17.38000          302.06440  94.11560             9.70132   \n",
       "4      57   -1.38000            1.90440  94.11560             9.70132   \n",
       "\n",
       "   z_score  deviation_score  \n",
       "0 -1.68843         33.11570  \n",
       "1  1.09470         60.94696  \n",
       "2 -0.24533         47.54673  \n",
       "3 -1.79151         32.08491  \n",
       "4 -0.14225         48.57751  "
      ]
     },
     "execution_count": 246,
     "metadata": {},
     "output_type": "execute_result"
    }
   ],
   "source": [
    "df.head()"
   ]
  },
  {
   "cell_type": "markdown",
   "id": "57ae7b89-f0e1-46aa-a020-49640250e7b8",
   "metadata": {},
   "source": [
    "# 度数分布表\n",
    "- 階級class　１０点から２０点などの区間のこと\n",
    "- 度数frequency その階級に分布している値の数のこと\n",
    "- 階級幅 binのことかな\n",
    "  "
   ]
  },
  {
   "cell_type": "code",
   "execution_count": 255,
   "id": "2f3dd1d4-9017-4845-ab3b-96815bf8a543",
   "metadata": {},
   "outputs": [
    {
     "name": "stdout",
     "output_type": "stream",
     "text": [
      "count   50.00000\n",
      "mean    58.38000\n",
      "std      9.79981\n",
      "min     37.00000\n",
      "25%     54.00000\n",
      "50%     57.50000\n",
      "75%     65.00000\n",
      "max     79.00000\n",
      "dtype: float64\n"
     ]
    }
   ],
   "source": [
    "english_scores = np.array(df['en'])\n",
    "print(pd.Series(english_scores).describe())"
   ]
  },
  {
   "cell_type": "code",
   "execution_count": 256,
   "id": "9fe06c48-56f0-4910-af1e-d42c87c3a83e",
   "metadata": {},
   "outputs": [
    {
     "data": {
      "text/plain": [
       "array([ 0,  0,  0,  2,  8, 16, 18,  6,  0,  0])"
      ]
     },
     "execution_count": 256,
     "metadata": {},
     "output_type": "execute_result"
    }
   ],
   "source": [
    "freq, _ = np.histogram(english_scores, bins=10, range=(0, 100))\n",
    "freq"
   ]
  },
  {
   "cell_type": "code",
   "execution_count": 257,
   "id": "5ca59da9-c18c-4c8a-9bcb-52fc7a387e6a",
   "metadata": {},
   "outputs": [
    {
     "data": {
      "text/html": [
       "<div>\n",
       "<style scoped>\n",
       "    .dataframe tbody tr th:only-of-type {\n",
       "        vertical-align: middle;\n",
       "    }\n",
       "\n",
       "    .dataframe tbody tr th {\n",
       "        vertical-align: top;\n",
       "    }\n",
       "\n",
       "    .dataframe thead th {\n",
       "        text-align: right;\n",
       "    }\n",
       "</style>\n",
       "<table border=\"1\" class=\"dataframe\">\n",
       "  <thead>\n",
       "    <tr style=\"text-align: right;\">\n",
       "      <th></th>\n",
       "      <th>frequency</th>\n",
       "    </tr>\n",
       "    <tr>\n",
       "      <th>class</th>\n",
       "      <th></th>\n",
       "    </tr>\n",
       "  </thead>\n",
       "  <tbody>\n",
       "    <tr>\n",
       "      <th>0~10</th>\n",
       "      <td>0</td>\n",
       "    </tr>\n",
       "    <tr>\n",
       "      <th>10~20</th>\n",
       "      <td>0</td>\n",
       "    </tr>\n",
       "    <tr>\n",
       "      <th>20~30</th>\n",
       "      <td>0</td>\n",
       "    </tr>\n",
       "    <tr>\n",
       "      <th>30~40</th>\n",
       "      <td>2</td>\n",
       "    </tr>\n",
       "    <tr>\n",
       "      <th>40~50</th>\n",
       "      <td>8</td>\n",
       "    </tr>\n",
       "    <tr>\n",
       "      <th>50~60</th>\n",
       "      <td>16</td>\n",
       "    </tr>\n",
       "    <tr>\n",
       "      <th>60~70</th>\n",
       "      <td>18</td>\n",
       "    </tr>\n",
       "    <tr>\n",
       "      <th>70~80</th>\n",
       "      <td>6</td>\n",
       "    </tr>\n",
       "    <tr>\n",
       "      <th>80~90</th>\n",
       "      <td>0</td>\n",
       "    </tr>\n",
       "    <tr>\n",
       "      <th>90~100</th>\n",
       "      <td>0</td>\n",
       "    </tr>\n",
       "  </tbody>\n",
       "</table>\n",
       "</div>"
      ],
      "text/plain": [
       "        frequency\n",
       "class            \n",
       "0~10            0\n",
       "10~20           0\n",
       "20~30           0\n",
       "30~40           2\n",
       "40~50           8\n",
       "50~60          16\n",
       "60~70          18\n",
       "70~80           6\n",
       "80~90           0\n",
       "90~100          0"
      ]
     },
     "execution_count": 257,
     "metadata": {},
     "output_type": "execute_result"
    }
   ],
   "source": [
    "freq_class = [f'{i}~{i+10}' for i in range(0, 100, 10)]\n",
    "freq_class\n",
    "freq_dist_df = pd.DataFrame(\n",
    "    {'frequency': freq},\n",
    "    index=pd.Index(freq_class, name='class')\n",
    "  \n",
    ")\n",
    "freq_dist_df"
   ]
  },
  {
   "cell_type": "code",
   "execution_count": null,
   "id": "e246d503-cc8f-4267-8020-c5809666534a",
   "metadata": {},
   "outputs": [],
   "source": []
  }
 ],
 "metadata": {
  "kernelspec": {
   "display_name": "Python 3 (ipykernel)",
   "language": "python",
   "name": "python3"
  },
  "language_info": {
   "codemirror_mode": {
    "name": "ipython",
    "version": 3
   },
   "file_extension": ".py",
   "mimetype": "text/x-python",
   "name": "python",
   "nbconvert_exporter": "python",
   "pygments_lexer": "ipython3",
   "version": "3.12.0"
  }
 },
 "nbformat": 4,
 "nbformat_minor": 5
}
